{
 "cells": [
  {
   "cell_type": "code",
   "execution_count": 1,
   "id": "68b5ce82",
   "metadata": {
    "_cell_guid": "b1076dfc-b9ad-4769-8c92-a6c4dae69d19",
    "_uuid": "8f2839f25d086af736a60e9eeb907d3b93b6e0e5",
    "execution": {
     "iopub.execute_input": "2023-05-11T14:35:25.237526Z",
     "iopub.status.busy": "2023-05-11T14:35:25.237171Z",
     "iopub.status.idle": "2023-05-11T14:35:25.255636Z",
     "shell.execute_reply": "2023-05-11T14:35:25.254283Z"
    },
    "papermill": {
     "duration": 0.033421,
     "end_time": "2023-05-11T14:35:25.258479",
     "exception": false,
     "start_time": "2023-05-11T14:35:25.225058",
     "status": "completed"
    },
    "tags": []
   },
   "outputs": [
    {
     "name": "stdout",
     "output_type": "stream",
     "text": [
      "/kaggle/input/movies/movies.csv\n",
      "/kaggle/input/ratings/ratings.csv\n"
     ]
    }
   ],
   "source": [
    "# This Python 3 environment comes with many helpful analytics libraries installed\n",
    "# It is defined by the kaggle/python Docker image: https://github.com/kaggle/docker-python\n",
    "# For example, here's several helpful packages to load\n",
    "\n",
    "import numpy as np # linear algebra\n",
    "import pandas as pd # data processing, CSV file I/O (e.g. pd.read_csv)\n",
    "\n",
    "# Input data files are available in the read-only \"../input/\" directory\n",
    "# For example, running this (by clicking run or pressing Shift+Enter) will list all files under the input directory\n",
    "\n",
    "import os\n",
    "for dirname, _, filenames in os.walk('/kaggle/input'):\n",
    "    for filename in filenames:\n",
    "        print(os.path.join(dirname, filename))\n",
    "\n",
    "# You can write up to 20GB to the current directory (/kaggle/working/) that gets preserved as output when you create a version using \"Save & Run All\" \n",
    "# You can also write temporary files to /kaggle/temp/, but they won't be saved outside of the current session"
   ]
  },
  {
   "cell_type": "code",
   "execution_count": 2,
   "id": "24e697a4",
   "metadata": {
    "execution": {
     "iopub.execute_input": "2023-05-11T14:35:25.280863Z",
     "iopub.status.busy": "2023-05-11T14:35:25.279896Z",
     "iopub.status.idle": "2023-05-11T14:35:26.634399Z",
     "shell.execute_reply": "2023-05-11T14:35:26.633224Z"
    },
    "papermill": {
     "duration": 1.368399,
     "end_time": "2023-05-11T14:35:26.636973",
     "exception": false,
     "start_time": "2023-05-11T14:35:25.268574",
     "status": "completed"
    },
    "tags": []
   },
   "outputs": [],
   "source": [
    "import pandas as pd\n",
    "from scipy.sparse import csr_matrix\n",
    "from sklearn.neighbors import NearestNeighbors\n",
    "from fuzzywuzzy import process"
   ]
  },
  {
   "cell_type": "code",
   "execution_count": 3,
   "id": "9c0375bb",
   "metadata": {
    "execution": {
     "iopub.execute_input": "2023-05-11T14:35:26.655872Z",
     "iopub.status.busy": "2023-05-11T14:35:26.655575Z",
     "iopub.status.idle": "2023-05-11T14:35:26.766858Z",
     "shell.execute_reply": "2023-05-11T14:35:26.765962Z"
    },
    "papermill": {
     "duration": 0.123637,
     "end_time": "2023-05-11T14:35:26.769331",
     "exception": false,
     "start_time": "2023-05-11T14:35:26.645694",
     "status": "completed"
    },
    "tags": []
   },
   "outputs": [],
   "source": [
    "movies='../input/movies/movies.csv'\n",
    "ratings='../input/ratings/ratings.csv'\n",
    "\n",
    "df_movies=pd.read_csv(movies, usecols=['movieId','title'], dtype={'movieId':'int32','title':'str'})\n",
    "df_ratings=pd.read_csv(ratings, usecols=['userId','movieId','rating'],dtype={'userId':'int32','movieId':'int32','rating':'float32'})"
   ]
  },
  {
   "cell_type": "code",
   "execution_count": 4,
   "id": "5194f3a9",
   "metadata": {
    "execution": {
     "iopub.execute_input": "2023-05-11T14:35:26.791908Z",
     "iopub.status.busy": "2023-05-11T14:35:26.791204Z",
     "iopub.status.idle": "2023-05-11T14:35:27.007119Z",
     "shell.execute_reply": "2023-05-11T14:35:27.006096Z"
    },
    "papermill": {
     "duration": 0.230374,
     "end_time": "2023-05-11T14:35:27.009669",
     "exception": false,
     "start_time": "2023-05-11T14:35:26.779295",
     "status": "completed"
    },
    "tags": []
   },
   "outputs": [],
   "source": [
    "#Spare Matrix\n",
    "#         Users\n",
    "#        [4,4,5] A\n",
    "#Movies  [3,3,4] B ==   Cos(A,B) => 0.95 \n",
    "#       [3,2,1]\n",
    "\n",
    "movies_users=df_ratings.pivot(index='movieId', columns='userId',values='rating').fillna(0)\n",
    "mat_movies_users=csr_matrix(movies_users.values)\n"
   ]
  },
  {
   "cell_type": "code",
   "execution_count": 5,
   "id": "f8c2db53",
   "metadata": {
    "execution": {
     "iopub.execute_input": "2023-05-11T14:35:27.029425Z",
     "iopub.status.busy": "2023-05-11T14:35:27.029123Z",
     "iopub.status.idle": "2023-05-11T14:35:27.034055Z",
     "shell.execute_reply": "2023-05-11T14:35:27.033317Z"
    },
    "papermill": {
     "duration": 0.017382,
     "end_time": "2023-05-11T14:35:27.035977",
     "exception": false,
     "start_time": "2023-05-11T14:35:27.018595",
     "status": "completed"
    },
    "tags": []
   },
   "outputs": [],
   "source": [
    "# Euclidean Distance\n",
    "# Manhattan Distance\n",
    "# Minkowski Distance \n",
    "# Cosine Similarity\n",
    "model_knn= NearestNeighbors(metric='cosine', algorithm='brute', n_neighbors=20)"
   ]
  },
  {
   "cell_type": "code",
   "execution_count": 6,
   "id": "68974ba4",
   "metadata": {
    "execution": {
     "iopub.execute_input": "2023-05-11T14:35:27.055944Z",
     "iopub.status.busy": "2023-05-11T14:35:27.055406Z",
     "iopub.status.idle": "2023-05-11T14:35:27.067417Z",
     "shell.execute_reply": "2023-05-11T14:35:27.066433Z"
    },
    "papermill": {
     "duration": 0.024276,
     "end_time": "2023-05-11T14:35:27.069549",
     "exception": false,
     "start_time": "2023-05-11T14:35:27.045273",
     "status": "completed"
    },
    "tags": []
   },
   "outputs": [
    {
     "data": {
      "text/plain": [
       "NearestNeighbors(algorithm='brute', metric='cosine', n_neighbors=20)"
      ]
     },
     "execution_count": 6,
     "metadata": {},
     "output_type": "execute_result"
    }
   ],
   "source": [
    "model_knn.fit(mat_movies_users)"
   ]
  },
  {
   "cell_type": "code",
   "execution_count": 7,
   "id": "1406dbf2",
   "metadata": {
    "execution": {
     "iopub.execute_input": "2023-05-11T14:35:27.089852Z",
     "iopub.status.busy": "2023-05-11T14:35:27.089513Z",
     "iopub.status.idle": "2023-05-11T14:35:27.869995Z",
     "shell.execute_reply": "2023-05-11T14:35:27.868634Z"
    },
    "papermill": {
     "duration": 0.793942,
     "end_time": "2023-05-11T14:35:27.872565",
     "exception": false,
     "start_time": "2023-05-11T14:35:27.078623",
     "status": "completed"
    },
    "tags": []
   },
   "outputs": [
    {
     "name": "stdout",
     "output_type": "stream",
     "text": [
      "Movie Selected:  Iron Man (2008) Index:  6743\n",
      "Searching for recommendations.....\n",
      "6743                                            NaN\n",
      "7197                                  Garage (2007)\n",
      "7195                        Merry Madagascar (2009)\n",
      "7354                             A-Team, The (2010)\n",
      "6726                         Superhero Movie (2008)\n",
      "7137                         Thirst (Bakjwi) (2009)\n",
      "7026                                 Scorpio (1973)\n",
      "7571                                 Win Win (2011)\n",
      "3880                  Look Who's Talking Now (1993)\n",
      "6388    After the Wedding (Efter brylluppet) (2006)\n",
      "7601                       Idiots and Angels (2008)\n",
      "6755                Nina's Heavenly Delights (2006)\n",
      "7022                                   Earth (2007)\n",
      "7338                          Blue Valentine (2010)\n",
      "4421                         What's Up, Doc? (1972)\n",
      "6195                             Silent Hill (2006)\n",
      "5885                                   Crash (2004)\n",
      "3740                              Motel Hell (1980)\n",
      "7378           Serbian Film, A (Srpski film) (2010)\n",
      "7289                            Generation X (1996)\n",
      "Name: title, dtype: object\n"
     ]
    }
   ],
   "source": [
    "# Recommender(movie_name) => List of Movies recommended\n",
    "\n",
    "def recommender(movie_name, data,model, n_recommendations ):\n",
    "    model.fit(data)\n",
    "    idx=process.extractOne(movie_name, df_movies['title'])[2]\n",
    "    print('Movie Selected: ',df_movies['title'][idx], 'Index: ',idx)\n",
    "    print('Searching for recommendations.....')\n",
    "    distances, indices=model.kneighbors(data[idx], n_neighbors=n_recommendations)\n",
    "    for i in indices:\n",
    "        print(df_movies['title'][i].where(i!=idx))\n",
    "    \n",
    "recommender('iron man', mat_movies_users, model_knn,20)\n",
    "    "
   ]
  }
 ],
 "metadata": {
  "kernelspec": {
   "display_name": "Python 3",
   "language": "python",
   "name": "python3"
  },
  "language_info": {
   "codemirror_mode": {
    "name": "ipython",
    "version": 3
   },
   "file_extension": ".py",
   "mimetype": "text/x-python",
   "name": "python",
   "nbconvert_exporter": "python",
   "pygments_lexer": "ipython3",
   "version": "3.7.12"
  },
  "papermill": {
   "default_parameters": {},
   "duration": 13.958967,
   "end_time": "2023-05-11T14:35:28.603666",
   "environment_variables": {},
   "exception": null,
   "input_path": "__notebook__.ipynb",
   "output_path": "__notebook__.ipynb",
   "parameters": {},
   "start_time": "2023-05-11T14:35:14.644699",
   "version": "2.3.4"
  }
 },
 "nbformat": 4,
 "nbformat_minor": 5
}
